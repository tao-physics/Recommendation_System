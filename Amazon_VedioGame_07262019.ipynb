{
 "cells": [
  {
   "cell_type": "markdown",
   "metadata": {},
   "source": [
    "# Simple Recommender System with Latent Factor Model _ Tao\n",
    "### The content of this notebook is based on materials and knowledge from following source:\n",
    "* Dataset: https://s3.amazonaws.com/amazon-reviews-pds/tsv/amazon_reviews_us_Video_Games_v1_00.tsv.gz\n",
    "* Coursera: Machine Learning: Regression\n",
    "* Coursera: Python Data Products for Predictive Analytics Specialization\n",
    "* Book: Practical Recommender Systems, by Kim Falk\n",
    "* Intelligence: Tao"
   ]
  },
  {
   "cell_type": "markdown",
   "metadata": {},
   "source": [
    "# Content\n",
    "* Import data + initial examination\n",
    "* How to build a recommender system ?\n",
    "* Ideas of latent factor model\n",
    "* Learn the parameters with Gradient Descent Algorithm\n",
    "* Select hyperparameters\n",
    "* Recommendation Demo\n",
    "* Evaluate the performance of recommender system"
   ]
  },
  {
   "cell_type": "markdown",
   "metadata": {},
   "source": [
    "# Part 1: import data + initial examination"
   ]
  },
  {
   "cell_type": "code",
   "execution_count": 1,
   "metadata": {},
   "outputs": [],
   "source": [
    "import numpy as np\n",
    "import pandas as pd\n",
    "import os\n",
    "\n",
    "from tqdm import tqdm\n",
    "\n",
    "import gzip\n",
    "from collections import defaultdict"
   ]
  },
  {
   "cell_type": "raw",
   "metadata": {
    "scrolled": true
   },
   "source": [
    "os.listdir()"
   ]
  },
  {
   "cell_type": "code",
   "execution_count": 3,
   "metadata": {},
   "outputs": [],
   "source": [
    "f = gzip.open('./amazon_reviews_us_Video_Games_v1_00.tsv.gz', 'rt', encoding='utf8')"
   ]
  },
  {
   "cell_type": "code",
   "execution_count": 4,
   "metadata": {},
   "outputs": [
    {
     "data": {
      "text/plain": [
       "'marketplace\\tcustomer_id\\treview_id\\tproduct_id\\tproduct_parent\\tproduct_title\\tproduct_category\\tstar_rating\\thelpful_votes\\ttotal_votes\\tvine\\tverified_purchase\\treview_headline\\treview_body\\treview_date\\n'"
      ]
     },
     "execution_count": 4,
     "metadata": {},
     "output_type": "execute_result"
    }
   ],
   "source": [
    "header = f.readline()\n",
    "header"
   ]
  },
  {
   "cell_type": "code",
   "execution_count": 5,
   "metadata": {},
   "outputs": [
    {
     "data": {
      "text/plain": [
       "['marketplace',\n",
       " 'customer_id',\n",
       " 'review_id',\n",
       " 'product_id',\n",
       " 'product_parent',\n",
       " 'product_title',\n",
       " 'product_category',\n",
       " 'star_rating',\n",
       " 'helpful_votes',\n",
       " 'total_votes',\n",
       " 'vine',\n",
       " 'verified_purchase',\n",
       " 'review_headline',\n",
       " 'review_body',\n",
       " 'review_date']"
      ]
     },
     "execution_count": 5,
     "metadata": {},
     "output_type": "execute_result"
    }
   ],
   "source": [
    "header = header.strip().split('\\t')\n",
    "header"
   ]
  },
  {
   "cell_type": "code",
   "execution_count": 6,
   "metadata": {},
   "outputs": [
    {
     "data": {
      "text/plain": [
       "15"
      ]
     },
     "execution_count": 6,
     "metadata": {},
     "output_type": "execute_result"
    }
   ],
   "source": [
    "len_header = len(header)\n",
    "len_header"
   ]
  },
  {
   "cell_type": "markdown",
   "metadata": {},
   "source": [
    "## Q: Why not using pandas + delimiter='\\t' directly?"
   ]
  },
  {
   "cell_type": "code",
   "execution_count": 7,
   "metadata": {
    "scrolled": true
   },
   "outputs": [
    {
     "name": "stderr",
     "output_type": "stream",
     "text": [
      "1785997it [00:17, 100317.06it/s]\n"
     ]
    }
   ],
   "source": [
    "dataset = [[] for _ in range(len_header)]\n",
    "\n",
    "id_row = 0\n",
    "for line in tqdm(f):\n",
    "    row = line.strip().split('\\t')\n",
    "    for idx, val in enumerate(row):\n",
    "        dataset[idx].append(val)\n",
    "#     if id_row % 100000 == 0:\n",
    "#         print(id_row)\n",
    "    id_row += 1"
   ]
  },
  {
   "cell_type": "code",
   "execution_count": 8,
   "metadata": {},
   "outputs": [
    {
     "data": {
      "text/html": [
       "<div>\n",
       "<style scoped>\n",
       "    .dataframe tbody tr th:only-of-type {\n",
       "        vertical-align: middle;\n",
       "    }\n",
       "\n",
       "    .dataframe tbody tr th {\n",
       "        vertical-align: top;\n",
       "    }\n",
       "\n",
       "    .dataframe thead th {\n",
       "        text-align: right;\n",
       "    }\n",
       "</style>\n",
       "<table border=\"1\" class=\"dataframe\">\n",
       "  <thead>\n",
       "    <tr style=\"text-align: right;\">\n",
       "      <th></th>\n",
       "      <th>marketplace</th>\n",
       "      <th>customer_id</th>\n",
       "      <th>review_id</th>\n",
       "      <th>product_id</th>\n",
       "      <th>product_parent</th>\n",
       "      <th>product_title</th>\n",
       "      <th>product_category</th>\n",
       "      <th>star_rating</th>\n",
       "      <th>helpful_votes</th>\n",
       "      <th>total_votes</th>\n",
       "      <th>vine</th>\n",
       "      <th>verified_purchase</th>\n",
       "      <th>review_headline</th>\n",
       "      <th>review_body</th>\n",
       "      <th>review_date</th>\n",
       "    </tr>\n",
       "  </thead>\n",
       "  <tbody>\n",
       "    <tr>\n",
       "      <th>0</th>\n",
       "      <td>US</td>\n",
       "      <td>12039526</td>\n",
       "      <td>RTIS3L2M1F5SM</td>\n",
       "      <td>B001CXYMFS</td>\n",
       "      <td>737716809</td>\n",
       "      <td>Thrustmaster T-Flight Hotas X Flight Stick</td>\n",
       "      <td>Video Games</td>\n",
       "      <td>5</td>\n",
       "      <td>0</td>\n",
       "      <td>0</td>\n",
       "      <td>N</td>\n",
       "      <td>Y</td>\n",
       "      <td>an amazing joystick. I especially love that yo...</td>\n",
       "      <td>Used this for Elite Dangerous on my mac, an am...</td>\n",
       "      <td>2015-08-31</td>\n",
       "    </tr>\n",
       "    <tr>\n",
       "      <th>1</th>\n",
       "      <td>US</td>\n",
       "      <td>9636577</td>\n",
       "      <td>R1ZV7R40OLHKD</td>\n",
       "      <td>B00M920ND6</td>\n",
       "      <td>569686175</td>\n",
       "      <td>Tonsee 6 buttons Wireless Optical Silent Gamin...</td>\n",
       "      <td>Video Games</td>\n",
       "      <td>5</td>\n",
       "      <td>0</td>\n",
       "      <td>0</td>\n",
       "      <td>N</td>\n",
       "      <td>Y</td>\n",
       "      <td>Definitely a silent mouse... Not a single clic...</td>\n",
       "      <td>Loved it,  I didn't even realise it was a gami...</td>\n",
       "      <td>2015-08-31</td>\n",
       "    </tr>\n",
       "    <tr>\n",
       "      <th>2</th>\n",
       "      <td>US</td>\n",
       "      <td>2331478</td>\n",
       "      <td>R3BH071QLH8QMC</td>\n",
       "      <td>B0029CSOD2</td>\n",
       "      <td>98937668</td>\n",
       "      <td>Hidden Mysteries: Titanic Secrets of the Fatef...</td>\n",
       "      <td>Video Games</td>\n",
       "      <td>1</td>\n",
       "      <td>0</td>\n",
       "      <td>1</td>\n",
       "      <td>N</td>\n",
       "      <td>Y</td>\n",
       "      <td>One Star</td>\n",
       "      <td>poor quality work and not as it is advertised.</td>\n",
       "      <td>2015-08-31</td>\n",
       "    </tr>\n",
       "    <tr>\n",
       "      <th>3</th>\n",
       "      <td>US</td>\n",
       "      <td>52495923</td>\n",
       "      <td>R127K9NTSXA2YH</td>\n",
       "      <td>B00GOOSV98</td>\n",
       "      <td>23143350</td>\n",
       "      <td>GelTabz Performance Thumb Grips - PlayStation ...</td>\n",
       "      <td>Video Games</td>\n",
       "      <td>3</td>\n",
       "      <td>0</td>\n",
       "      <td>0</td>\n",
       "      <td>N</td>\n",
       "      <td>Y</td>\n",
       "      <td>good, but could be bettee</td>\n",
       "      <td>nice, but tend to slip away from stick in inte...</td>\n",
       "      <td>2015-08-31</td>\n",
       "    </tr>\n",
       "    <tr>\n",
       "      <th>4</th>\n",
       "      <td>US</td>\n",
       "      <td>14533949</td>\n",
       "      <td>R32ZWUXDJPW27Q</td>\n",
       "      <td>B00Y074JOM</td>\n",
       "      <td>821342511</td>\n",
       "      <td>Zero Suit Samus amiibo - Japan Import (Super S...</td>\n",
       "      <td>Video Games</td>\n",
       "      <td>4</td>\n",
       "      <td>0</td>\n",
       "      <td>0</td>\n",
       "      <td>N</td>\n",
       "      <td>Y</td>\n",
       "      <td>Great but flawed.</td>\n",
       "      <td>Great amiibo, great for collecting. Quality ma...</td>\n",
       "      <td>2015-08-31</td>\n",
       "    </tr>\n",
       "  </tbody>\n",
       "</table>\n",
       "</div>"
      ],
      "text/plain": [
       "  marketplace customer_id       review_id  product_id product_parent  \\\n",
       "0          US    12039526   RTIS3L2M1F5SM  B001CXYMFS      737716809   \n",
       "1          US     9636577   R1ZV7R40OLHKD  B00M920ND6      569686175   \n",
       "2          US     2331478  R3BH071QLH8QMC  B0029CSOD2       98937668   \n",
       "3          US    52495923  R127K9NTSXA2YH  B00GOOSV98       23143350   \n",
       "4          US    14533949  R32ZWUXDJPW27Q  B00Y074JOM      821342511   \n",
       "\n",
       "                                       product_title product_category  \\\n",
       "0         Thrustmaster T-Flight Hotas X Flight Stick      Video Games   \n",
       "1  Tonsee 6 buttons Wireless Optical Silent Gamin...      Video Games   \n",
       "2  Hidden Mysteries: Titanic Secrets of the Fatef...      Video Games   \n",
       "3  GelTabz Performance Thumb Grips - PlayStation ...      Video Games   \n",
       "4  Zero Suit Samus amiibo - Japan Import (Super S...      Video Games   \n",
       "\n",
       "  star_rating helpful_votes total_votes vine verified_purchase  \\\n",
       "0           5             0           0    N                 Y   \n",
       "1           5             0           0    N                 Y   \n",
       "2           1             0           1    N                 Y   \n",
       "3           3             0           0    N                 Y   \n",
       "4           4             0           0    N                 Y   \n",
       "\n",
       "                                     review_headline  \\\n",
       "0  an amazing joystick. I especially love that yo...   \n",
       "1  Definitely a silent mouse... Not a single clic...   \n",
       "2                                           One Star   \n",
       "3                          good, but could be bettee   \n",
       "4                                  Great but flawed.   \n",
       "\n",
       "                                         review_body review_date  \n",
       "0  Used this for Elite Dangerous on my mac, an am...  2015-08-31  \n",
       "1  Loved it,  I didn't even realise it was a gami...  2015-08-31  \n",
       "2     poor quality work and not as it is advertised.  2015-08-31  \n",
       "3  nice, but tend to slip away from stick in inte...  2015-08-31  \n",
       "4  Great amiibo, great for collecting. Quality ma...  2015-08-31  "
      ]
     },
     "execution_count": 8,
     "metadata": {},
     "output_type": "execute_result"
    }
   ],
   "source": [
    "amazon = pd.DataFrame(dict(zip(header, dataset)))\n",
    "amazon.head()"
   ]
  },
  {
   "cell_type": "code",
   "execution_count": 9,
   "metadata": {},
   "outputs": [
    {
     "name": "stdout",
     "output_type": "stream",
     "text": [
      "<class 'pandas.core.frame.DataFrame'>\n",
      "RangeIndex: 1785997 entries, 0 to 1785996\n",
      "Data columns (total 15 columns):\n",
      "marketplace          1785997 non-null object\n",
      "customer_id          1785997 non-null object\n",
      "review_id            1785997 non-null object\n",
      "product_id           1785997 non-null object\n",
      "product_parent       1785997 non-null object\n",
      "product_title        1785997 non-null object\n",
      "product_category     1785997 non-null object\n",
      "star_rating          1785997 non-null object\n",
      "helpful_votes        1785997 non-null object\n",
      "total_votes          1785997 non-null object\n",
      "vine                 1785997 non-null object\n",
      "verified_purchase    1785997 non-null object\n",
      "review_headline      1785997 non-null object\n",
      "review_body          1785997 non-null object\n",
      "review_date          1785997 non-null object\n",
      "dtypes: object(15)\n",
      "memory usage: 204.4+ MB\n"
     ]
    }
   ],
   "source": [
    "amazon.info(null_counts=True)"
   ]
  },
  {
   "cell_type": "code",
   "execution_count": 10,
   "metadata": {},
   "outputs": [],
   "source": [
    "amazon = amazon.astype({'star_rating' : int, 'helpful_votes' : int, 'total_votes' : int})"
   ]
  },
  {
   "cell_type": "code",
   "execution_count": 11,
   "metadata": {},
   "outputs": [
    {
     "data": {
      "text/html": [
       "<div>\n",
       "<style scoped>\n",
       "    .dataframe tbody tr th:only-of-type {\n",
       "        vertical-align: middle;\n",
       "    }\n",
       "\n",
       "    .dataframe tbody tr th {\n",
       "        vertical-align: top;\n",
       "    }\n",
       "\n",
       "    .dataframe thead th {\n",
       "        text-align: right;\n",
       "    }\n",
       "</style>\n",
       "<table border=\"1\" class=\"dataframe\">\n",
       "  <thead>\n",
       "    <tr style=\"text-align: right;\">\n",
       "      <th></th>\n",
       "      <th>marketplace</th>\n",
       "      <th>customer_id</th>\n",
       "      <th>review_id</th>\n",
       "      <th>product_id</th>\n",
       "      <th>product_parent</th>\n",
       "      <th>product_title</th>\n",
       "      <th>product_category</th>\n",
       "      <th>star_rating</th>\n",
       "      <th>helpful_votes</th>\n",
       "      <th>total_votes</th>\n",
       "      <th>vine</th>\n",
       "      <th>verified_purchase</th>\n",
       "      <th>review_headline</th>\n",
       "      <th>review_body</th>\n",
       "      <th>review_date</th>\n",
       "      <th>customer_product</th>\n",
       "    </tr>\n",
       "  </thead>\n",
       "  <tbody>\n",
       "    <tr>\n",
       "      <th>0</th>\n",
       "      <td>US</td>\n",
       "      <td>12039526</td>\n",
       "      <td>RTIS3L2M1F5SM</td>\n",
       "      <td>B001CXYMFS</td>\n",
       "      <td>737716809</td>\n",
       "      <td>Thrustmaster T-Flight Hotas X Flight Stick</td>\n",
       "      <td>Video Games</td>\n",
       "      <td>5</td>\n",
       "      <td>0</td>\n",
       "      <td>0</td>\n",
       "      <td>N</td>\n",
       "      <td>Y</td>\n",
       "      <td>an amazing joystick. I especially love that yo...</td>\n",
       "      <td>Used this for Elite Dangerous on my mac, an am...</td>\n",
       "      <td>2015-08-31</td>\n",
       "      <td>12039526_B001CXYMFS</td>\n",
       "    </tr>\n",
       "    <tr>\n",
       "      <th>1</th>\n",
       "      <td>US</td>\n",
       "      <td>9636577</td>\n",
       "      <td>R1ZV7R40OLHKD</td>\n",
       "      <td>B00M920ND6</td>\n",
       "      <td>569686175</td>\n",
       "      <td>Tonsee 6 buttons Wireless Optical Silent Gamin...</td>\n",
       "      <td>Video Games</td>\n",
       "      <td>5</td>\n",
       "      <td>0</td>\n",
       "      <td>0</td>\n",
       "      <td>N</td>\n",
       "      <td>Y</td>\n",
       "      <td>Definitely a silent mouse... Not a single clic...</td>\n",
       "      <td>Loved it,  I didn't even realise it was a gami...</td>\n",
       "      <td>2015-08-31</td>\n",
       "      <td>9636577_B00M920ND6</td>\n",
       "    </tr>\n",
       "    <tr>\n",
       "      <th>2</th>\n",
       "      <td>US</td>\n",
       "      <td>2331478</td>\n",
       "      <td>R3BH071QLH8QMC</td>\n",
       "      <td>B0029CSOD2</td>\n",
       "      <td>98937668</td>\n",
       "      <td>Hidden Mysteries: Titanic Secrets of the Fatef...</td>\n",
       "      <td>Video Games</td>\n",
       "      <td>1</td>\n",
       "      <td>0</td>\n",
       "      <td>1</td>\n",
       "      <td>N</td>\n",
       "      <td>Y</td>\n",
       "      <td>One Star</td>\n",
       "      <td>poor quality work and not as it is advertised.</td>\n",
       "      <td>2015-08-31</td>\n",
       "      <td>2331478_B0029CSOD2</td>\n",
       "    </tr>\n",
       "  </tbody>\n",
       "</table>\n",
       "</div>"
      ],
      "text/plain": [
       "  marketplace customer_id       review_id  product_id product_parent  \\\n",
       "0          US    12039526   RTIS3L2M1F5SM  B001CXYMFS      737716809   \n",
       "1          US     9636577   R1ZV7R40OLHKD  B00M920ND6      569686175   \n",
       "2          US     2331478  R3BH071QLH8QMC  B0029CSOD2       98937668   \n",
       "\n",
       "                                       product_title product_category  \\\n",
       "0         Thrustmaster T-Flight Hotas X Flight Stick      Video Games   \n",
       "1  Tonsee 6 buttons Wireless Optical Silent Gamin...      Video Games   \n",
       "2  Hidden Mysteries: Titanic Secrets of the Fatef...      Video Games   \n",
       "\n",
       "   star_rating  helpful_votes  total_votes vine verified_purchase  \\\n",
       "0            5              0            0    N                 Y   \n",
       "1            5              0            0    N                 Y   \n",
       "2            1              0            1    N                 Y   \n",
       "\n",
       "                                     review_headline  \\\n",
       "0  an amazing joystick. I especially love that yo...   \n",
       "1  Definitely a silent mouse... Not a single clic...   \n",
       "2                                           One Star   \n",
       "\n",
       "                                         review_body review_date  \\\n",
       "0  Used this for Elite Dangerous on my mac, an am...  2015-08-31   \n",
       "1  Loved it,  I didn't even realise it was a gami...  2015-08-31   \n",
       "2     poor quality work and not as it is advertised.  2015-08-31   \n",
       "\n",
       "      customer_product  \n",
       "0  12039526_B001CXYMFS  \n",
       "1   9636577_B00M920ND6  \n",
       "2   2331478_B0029CSOD2  "
      ]
     },
     "execution_count": 11,
     "metadata": {},
     "output_type": "execute_result"
    }
   ],
   "source": [
    "amazon['customer_product'] = amazon['customer_id'] +'_'+ amazon['product_id']\n",
    "amazon.head(3)"
   ]
  },
  {
   "cell_type": "code",
   "execution_count": 12,
   "metadata": {},
   "outputs": [
    {
     "name": "stdout",
     "output_type": "stream",
     "text": [
      "<class 'pandas.core.frame.DataFrame'>\n",
      "RangeIndex: 1785997 entries, 0 to 1785996\n",
      "Data columns (total 16 columns):\n",
      "marketplace          object\n",
      "customer_id          object\n",
      "review_id            object\n",
      "product_id           object\n",
      "product_parent       object\n",
      "product_title        object\n",
      "product_category     object\n",
      "star_rating          int32\n",
      "helpful_votes        int32\n",
      "total_votes          int32\n",
      "vine                 object\n",
      "verified_purchase    object\n",
      "review_headline      object\n",
      "review_body          object\n",
      "review_date          object\n",
      "customer_product     object\n",
      "dtypes: int32(3), object(13)\n",
      "memory usage: 197.6+ MB\n"
     ]
    }
   ],
   "source": [
    "amazon.info()"
   ]
  },
  {
   "cell_type": "code",
   "execution_count": 13,
   "metadata": {},
   "outputs": [],
   "source": [
    "def unique_counts(df, col_names):\n",
    "    uni_counts = defaultdict(int)\n",
    "    for name in col_names:\n",
    "        uni = df[name].unique()\n",
    "        uni_counts[name] = len(uni)\n",
    "    return uni_counts\n",
    "\n",
    "def unique_rank(df, col_names):\n",
    "    for name in col_names:\n",
    "        uni = df[name].value_counts()\n",
    "        print(uni)"
   ]
  },
  {
   "cell_type": "code",
   "execution_count": 14,
   "metadata": {},
   "outputs": [
    {
     "data": {
      "text/plain": [
       "defaultdict(int,\n",
       "            {'marketplace': 1,\n",
       "             'customer_id': 1045733,\n",
       "             'review_id': 1785997,\n",
       "             'product_id': 65792,\n",
       "             'product_parent': 63007,\n",
       "             'product_title': 56237,\n",
       "             'product_category': 1,\n",
       "             'star_rating': 5,\n",
       "             'helpful_votes': 628,\n",
       "             'total_votes': 715,\n",
       "             'vine': 2,\n",
       "             'verified_purchase': 2,\n",
       "             'review_headline': 1020973,\n",
       "             'review_body': 1638977,\n",
       "             'review_date': 5906,\n",
       "             'customer_product': 1779460})"
      ]
     },
     "execution_count": 14,
     "metadata": {},
     "output_type": "execute_result"
    }
   ],
   "source": [
    "col_names = amazon.columns.values\n",
    "uni_counts = unique_counts(amazon, col_names)\n",
    "uni_counts"
   ]
  },
  {
   "cell_type": "code",
   "execution_count": 15,
   "metadata": {},
   "outputs": [
    {
     "name": "stdout",
     "output_type": "stream",
     "text": [
      "US    1785997\n",
      "Name: marketplace, dtype: int64\n",
      "Video Games    1785997\n",
      "Name: product_category, dtype: int64\n",
      "5    1026924\n",
      "4     318246\n",
      "1     192166\n",
      "3     153864\n",
      "2      94797\n",
      "Name: star_rating, dtype: int64\n",
      "N    1781706\n",
      "Y       4291\n",
      "Name: vine, dtype: int64\n",
      "Y    1169701\n",
      "N     616296\n",
      "Name: verified_purchase, dtype: int64\n"
     ]
    }
   ],
   "source": [
    "col_names = ['marketplace', 'product_category', 'star_rating', 'vine', 'verified_purchase']\n",
    "\n",
    "unique_rank(amazon, col_names)"
   ]
  },
  {
   "cell_type": "code",
   "execution_count": 16,
   "metadata": {},
   "outputs": [
    {
     "data": {
      "text/plain": [
       "68800865536"
      ]
     },
     "execution_count": 16,
     "metadata": {},
     "output_type": "execute_result"
    }
   ],
   "source": [
    "uni_counts['customer_id'] * uni_counts['product_id']"
   ]
  },
  {
   "cell_type": "markdown",
   "metadata": {},
   "source": [
    "# Part 2: How to build a recommender system ?\n",
    "### Considerations:\n",
    "* what to recommend?  Based on what?\n",
    "* based on popularity\n",
    "* based on similar users' shopping list\n",
    "* based on similar or linked items\n",
    "* based on the user's rating or potential rating\n",
    "#### Q: what's the meaning of similarity between two users?"
   ]
  },
  {
   "cell_type": "markdown",
   "metadata": {},
   "source": [
    "## Q: What are the most important information?\n",
    "* 1st level: user, item, rating\n",
    "* 2nd level: votes, vine, verified_purchase, review\n",
    "* 3rd level: others, e.g. marketplace (in this case)"
   ]
  },
  {
   "cell_type": "markdown",
   "metadata": {},
   "source": [
    "# Part 3: How to model the rating - Idea behind latent factor model\n",
    "considerations:\n",
    "\n",
    "eg: user-i, item-j\n",
    "\n",
    "mean + user + item + (user, item)\n",
    "\n",
    "$\\alpha + \\beta_i + \\beta_j + \\vec{\\gamma_i}\\cdot\\vec{\\gamma_j}$"
   ]
  },
  {
   "cell_type": "markdown",
   "metadata": {},
   "source": [
    "### Q: How to split the total dataset to train, validation, and test parts?"
   ]
  },
  {
   "cell_type": "code",
   "execution_count": 17,
   "metadata": {},
   "outputs": [
    {
     "data": {
      "text/plain": [
       "(1785997, array([      0,       1,       2, ..., 1785994, 1785995, 1785996]))"
      ]
     },
     "execution_count": 17,
     "metadata": {},
     "output_type": "execute_result"
    }
   ],
   "source": [
    "total_num = len(dataset[0])\n",
    "data_ids = np.arange(total_num)\n",
    "total_num, data_ids"
   ]
  },
  {
   "cell_type": "code",
   "execution_count": 18,
   "metadata": {},
   "outputs": [
    {
     "data": {
      "text/plain": [
       "array([ 953251,  656094, 1112393, ..., 1729795,  875409,   15732])"
      ]
     },
     "execution_count": 18,
     "metadata": {},
     "output_type": "execute_result"
    }
   ],
   "source": [
    "np.random.shuffle(data_ids)\n",
    "data_ids"
   ]
  },
  {
   "cell_type": "code",
   "execution_count": 19,
   "metadata": {},
   "outputs": [
    {
     "data": {
      "text/plain": [
       "(1, 3)"
      ]
     },
     "execution_count": 19,
     "metadata": {},
     "output_type": "execute_result"
    }
   ],
   "source": [
    "header.index('customer_id'), header.index('product_id')"
   ]
  },
  {
   "cell_type": "code",
   "execution_count": 20,
   "metadata": {},
   "outputs": [
    {
     "data": {
      "text/plain": [
       "(1134453, 651544, 1785997, 0.6351931162258391)"
      ]
     },
     "execution_count": 20,
     "metadata": {},
     "output_type": "execute_result"
    }
   ],
   "source": [
    "user_set = set()\n",
    "item_set = set()\n",
    "train_id = []\n",
    "test_id = []\n",
    "\n",
    "users = dataset[1]\n",
    "items = dataset[3]\n",
    "\n",
    "for k in data_ids:\n",
    "    if (users[k] in user_set) and (items[k] in item_set):\n",
    "        if np.random.random() < 0.1:\n",
    "            train_id.append(k)\n",
    "        else:\n",
    "            test_id.append(k)\n",
    "    else:\n",
    "        train_id.append(k)    \n",
    "        user_set.add(users[k])\n",
    "        item_set.add(items[k])\n",
    "    \n",
    "len(train_id), len(test_id), len(train_id)+len(test_id), len(train_id)/(len(train_id) + len(test_id))"
   ]
  },
  {
   "cell_type": "code",
   "execution_count": 21,
   "metadata": {},
   "outputs": [
    {
     "data": {
      "text/plain": [
       "(1045733, 65792, 1045733, 65792)"
      ]
     },
     "execution_count": 21,
     "metadata": {},
     "output_type": "execute_result"
    }
   ],
   "source": [
    "len(user_set), len(item_set), uni_counts['customer_id'], uni_counts['product_id']"
   ]
  },
  {
   "cell_type": "code",
   "execution_count": 22,
   "metadata": {},
   "outputs": [
    {
     "data": {
      "text/plain": [
       "((1134453, 16), (325773, 16), (325771, 16))"
      ]
     },
     "execution_count": 22,
     "metadata": {},
     "output_type": "execute_result"
    }
   ],
   "source": [
    "amazon_train = amazon.loc[train_id]\n",
    "\n",
    "test_id = np.array(test_id)\n",
    "np.random.shuffle(test_id)\n",
    "mid = len(test_id)//2+1\n",
    "val_id = test_id[:mid]\n",
    "t_id = test_id[mid:]\n",
    "\n",
    "amazon_validation = amazon.loc[val_id]\n",
    "amazon_test = amazon.loc[t_id]\n",
    "\n",
    "amazon_train.shape, amazon_validation.shape, amazon_test.shape"
   ]
  },
  {
   "cell_type": "code",
   "execution_count": 23,
   "metadata": {},
   "outputs": [],
   "source": [
    "users_train = amazon_train['customer_id'].values\n",
    "items_train = amazon_train['product_id'].values\n",
    "labels_train = amazon_train['star_rating'].values\n",
    "\n",
    "users_validation = amazon_validation['customer_id'].values\n",
    "items_validation = amazon_validation['product_id'].values\n",
    "labels_validation = amazon_validation['star_rating'].values\n",
    "\n",
    "users_test = amazon_test['customer_id'].values\n",
    "items_test = amazon_test['product_id'].values\n",
    "labels_test = amazon_test['star_rating'].values"
   ]
  },
  {
   "cell_type": "code",
   "execution_count": 24,
   "metadata": {},
   "outputs": [
    {
     "data": {
      "text/plain": [
       "3.9934990695956554"
      ]
     },
     "execution_count": 24,
     "metadata": {},
     "output_type": "execute_result"
    }
   ],
   "source": [
    "mean_train = np.mean(labels_train)\n",
    "mean_train"
   ]
  },
  {
   "cell_type": "code",
   "execution_count": 25,
   "metadata": {},
   "outputs": [],
   "source": [
    "dataset_train = amazon_train.to_dict('records')\n",
    "dataset_validation = amazon_validation.to_dict('records')\n",
    "dataset_test = amazon_test.to_dict('records')"
   ]
  },
  {
   "cell_type": "code",
   "execution_count": 26,
   "metadata": {},
   "outputs": [
    {
     "data": {
      "text/plain": [
       "{'marketplace': 'US',\n",
       " 'customer_id': '18286458',\n",
       " 'review_id': 'RMOS5LVFWCW2Y',\n",
       " 'product_id': 'B0050SVFWE',\n",
       " 'product_parent': '278855652',\n",
       " 'product_title': 'DanceDanceRevolution II',\n",
       " 'product_category': 'Video Games',\n",
       " 'star_rating': 5,\n",
       " 'helpful_votes': 0,\n",
       " 'total_votes': 0,\n",
       " 'vine': 'N',\n",
       " 'verified_purchase': 'Y',\n",
       " 'review_headline': 'It works as stablished',\n",
       " 'review_body': 'It works perfect, I really love it. Just to inform, it connects to the old wiis where the connection for the previous controls was available.',\n",
       " 'review_date': '2013-03-03',\n",
       " 'customer_product': '18286458_B0050SVFWE'}"
      ]
     },
     "execution_count": 26,
     "metadata": {},
     "output_type": "execute_result"
    }
   ],
   "source": [
    "dataset_train[0]"
   ]
  },
  {
   "cell_type": "markdown",
   "metadata": {},
   "source": [
    "# Part 4: Gradient Descent Algorithm\n",
    "Goal: optimize the cost function\n",
    "#### important steps:\n",
    "+ initialize parameters\n",
    "+ calculate derivatives for each parameter\n",
    "+ update parameters\n",
    "+ iterate uniti max_iteration / small improvements\n",
    "+ Note: avoid overfitting\n"
   ]
  },
  {
   "cell_type": "code",
   "execution_count": 27,
   "metadata": {},
   "outputs": [],
   "source": [
    "# prediction function for one (user, item) pair\n",
    "\n",
    "def prediction(user, item, paras):\n",
    "    # unpack parameters\n",
    "    alpha = paras[0]\n",
    "    userBiases = paras[1]\n",
    "    itemBiases = paras[2]\n",
    "    userGamma = paras[3]\n",
    "    itemGamma = paras[4]\n",
    "    \n",
    "    pred = alpha + userBiases[user] + itemBiases[item] + np.dot(userGamma[user], itemGamma[item])\n",
    "    \n",
    "    return pred"
   ]
  },
  {
   "cell_type": "code",
   "execution_count": 28,
   "metadata": {},
   "outputs": [],
   "source": [
    "def dataset_pred(dataset, paras):\n",
    "    pred = [prediction(data['customer_id'], data['product_id'], paras) for data in dataset]\n",
    "    return pred"
   ]
  },
  {
   "cell_type": "code",
   "execution_count": 29,
   "metadata": {},
   "outputs": [],
   "source": [
    "def cal_MSE(dataset, labels, paras):\n",
    "    pred = dataset_pred(dataset, paras)\n",
    "    pred = np.array(pred)\n",
    "#     labels = [data['star_rating'] for data in dataset]\n",
    "#     labels = np.array(labels)\n",
    "    diff = pred - labels\n",
    "    mse = np.dot(diff, diff) / len(pred)\n",
    "    return mse"
   ]
  },
  {
   "cell_type": "code",
   "execution_count": 30,
   "metadata": {},
   "outputs": [],
   "source": [
    "def cal_cost(dataset, labels, paras, l2_penalty):\n",
    "    mse = cal_MSE(dataset, labels, paras)\n",
    "    cost = mse\n",
    "    userBiases = paras[1]\n",
    "    itemBiases = paras[2]\n",
    "    userGamma = paras[3]\n",
    "    itemGamma = paras[4]    \n",
    "    for u in userBiases:\n",
    "        cost += l2_penalty * userBiases[u] ** 2\n",
    "    for i in itemBiases:\n",
    "        cost += l2_penalty * itemBiases[i] ** 2\n",
    "    for u in userGamma:\n",
    "        cost += l2_penalty * np.dot(userGamma[u], userGamma[u])\n",
    "    for i in itemGamma:\n",
    "        cost += l2_penalty * np.dot(itemGamma[i], itemGamma[i])\n",
    "    return cost, mse"
   ]
  },
  {
   "cell_type": "code",
   "execution_count": 31,
   "metadata": {},
   "outputs": [],
   "source": [
    "def derivative_ridge(dataset, paras, l2_penalty):\n",
    "    \n",
    "    N = len(dataset)\n",
    "    \n",
    "    alpha = paras[0]\n",
    "    userBiases = paras[1]\n",
    "    itemBiases = paras[2]\n",
    "    userGamma = paras[3]\n",
    "    itemGamma = paras[4] \n",
    "    \n",
    "    dalpha = 0\n",
    "    duserBiases = dict(zip(user_set, np.zeros(len(user_set))))\n",
    "    ditemBiases = dict(zip(item_set, np.zeros(len(item_set))))\n",
    "    duserGamma = dict(zip(user_set, np.zeros((len(user_set), K))))\n",
    "    ditemGamma = dict(zip(item_set, np.zeros((len(item_set), K))))\n",
    "    \n",
    "    for d in dataset:\n",
    "        u, i = d['customer_id'], d['product_id']\n",
    "        pred = prediction(u, i, paras)\n",
    "        diff = pred - d['star_rating']\n",
    "        # from MSE\n",
    "        dalpha += 2 / N * diff\n",
    "        # from MSE + l2_penalty\n",
    "        duserBiases[u] += 2 / N * diff\n",
    "        ditemBiases[i] += 2 / N * diff\n",
    "        # from MSE + l2_penalty\n",
    "        for k in range(K):\n",
    "            duserGamma[u][k] += 2 / N * diff * itemGamma[i][k]\n",
    "            ditemGamma[i][k] += 2 / N * diff * userGamma[u][k]\n",
    "            \n",
    "    for u in duserBiases:\n",
    "        duserBiases[u] += 2 * l2_penalty * userBiases[u]\n",
    "    for i in ditemBiases:\n",
    "        ditemBiases[i] += 2 * l2_penalty * itemBiases[i]\n",
    "    for u in duserGamma:\n",
    "        for k in range(K):\n",
    "            duserGamma[u][k] += 2 * l2_penalty * userGamma[u][k]\n",
    "    for i in ditemGamma:\n",
    "        for k in range(K):\n",
    "            ditemGamma[i][k] += 2 * l2_penalty * itemGamma[i][k]\n",
    "            \n",
    "    return [dalpha, duserBiases, ditemBiases, duserGamma, ditemGamma]"
   ]
  },
  {
   "cell_type": "code",
   "execution_count": 47,
   "metadata": {},
   "outputs": [],
   "source": [
    "def ridge_regression_gradient_descent(dataset, paras, step_size, l2_penalty, max_iterations=30):\n",
    "    \n",
    "    alpha = paras[0]\n",
    "    userBiases = paras[1]\n",
    "    itemBiases = paras[2]\n",
    "    userGamma = paras[3]\n",
    "    itemGamma = paras[4]\n",
    "    \n",
    "    n = 1\n",
    "    while n <= max_iterations:\n",
    "        \n",
    "        print('n=', n)\n",
    "        \n",
    "        # calculate derivative of parameters\n",
    "        dparas = derivative_ridge(dataset, paras, l2_penalty)\n",
    "        \n",
    "        # update alpha\n",
    "        dalpha = dparas[0]\n",
    "        alpha += -1 * step_size * dalpha\n",
    "        # update userBiases\n",
    "        duserBiases = dparas[1]\n",
    "        for u in userBiases:\n",
    "            userBiases[u] += -1 * step_size * duserBiases[u]\n",
    "        # update itemBiases\n",
    "        ditemBiases = dparas[2]\n",
    "        for i in itemBiases:\n",
    "            itemBiases[i] += -1 * step_size * ditemBiases[i]\n",
    "        # update userGamma\n",
    "        duserGamma = dparas[3]\n",
    "        for u in userGamma:\n",
    "            for k in range(K):\n",
    "                userGamma[u][k] += -1 * step_size * duserGamma[u][k]\n",
    "        # update itemGamma\n",
    "        ditemGamma = dparas[4]\n",
    "        for i in itemGamma:\n",
    "            for k in range(K):\n",
    "                itemGamma[i][k] += -1 * step_size * ditemGamma[i][k]\n",
    "                \n",
    "        # assemble paras\n",
    "        paras = [alpha, userBiases, itemBiases, userGamma, itemGamma]\n",
    "        \n",
    "        step_size /= np.sqrt(n)\n",
    "        \n",
    "        if n % 1 == 0:\n",
    "            cost, mse = cal_cost(dataset_train, labels_train, paras, l2_penalty)\n",
    "            mse_val = cal_MSE(dataset_validation, labels_validation, paras)\n",
    "            test_val = cal_MSE(dataset_test, labels_test, paras)\n",
    "            print('cost='+str(cost)+' __ mse='+str(mse)+' __ mse_val='+str(mse_val)+' _ mse_test='+str(test_val))\n",
    "            \n",
    "            rec_cost[-1].append(cost)\n",
    "            rec_mse_train[-1].append(mse)\n",
    "            rec_mse_val[-1].append(mse_val)\n",
    "            \n",
    "        n += 1\n",
    "        \n",
    "    return paras"
   ]
  },
  {
   "cell_type": "markdown",
   "metadata": {},
   "source": [
    "## Base line model\n",
    "+ use the mean rating value in the training set"
   ]
  },
  {
   "cell_type": "code",
   "execution_count": 48,
   "metadata": {},
   "outputs": [],
   "source": [
    "# base line mean_train\n",
    "\n",
    "def base_line(mean, labels):\n",
    "    pred = np.zeros(len(labels)) + mean\n",
    "    labels = np.array(labels)\n",
    "    dif = pred - labels\n",
    "    return np.dot(dif, dif) / len(dif)\n"
   ]
  },
  {
   "cell_type": "code",
   "execution_count": 49,
   "metadata": {},
   "outputs": [
    {
     "data": {
      "text/plain": [
       "(2.0170717126564988, 1.5382699808812206, 1.539536609777971)"
      ]
     },
     "execution_count": 49,
     "metadata": {},
     "output_type": "execute_result"
    }
   ],
   "source": [
    "base_train = base_line(mean_train, labels_train)\n",
    "base_validation = base_line(mean_train, labels_validation)\n",
    "base_test = base_line(mean_train, labels_test)\n",
    "base_train, base_validation, base_test"
   ]
  },
  {
   "cell_type": "markdown",
   "metadata": {},
   "source": [
    "# Part 5: Hyperparameter Selection\n",
    "* initialize parameters\n",
    "* record some important value (cost_train, mse_train, mse_cost)"
   ]
  },
  {
   "cell_type": "code",
   "execution_count": 54,
   "metadata": {},
   "outputs": [
    {
     "name": "stdout",
     "output_type": "stream",
     "text": [
      "step_size= 6\n",
      "l2_penalty= 0.01\n",
      "n= 1\n",
      "cost=23.530054153770216 __ mse=2.014231227200935 __ mse_val=1.5355849505433918 _ mse_test=1.5372036486701688\n",
      "n= 2\n",
      "cost=18.675124932109362 __ mse=2.0128709080566387 __ mse_val=1.5555223233654865 _ mse_test=1.5570258029758801\n",
      "n= 3\n",
      "cost=16.09917733145316 __ mse=2.144098369302705 __ mse_val=1.5363301963762943 _ mse_test=1.5385072925940935\n",
      "n= 4\n",
      "cost=16.695816548720618 __ mse=4.0741334445247 __ mse_val=4.121167501744081 _ mse_test=4.1203559269374885\n",
      "n= 5\n",
      "cost=18.364953067836087 __ mse=6.353842244453814 __ mse_val=5.124908457026885 _ mse_test=5.129929049206463\n",
      "n= 6\n",
      "cost=13.795705986849018 __ mse=2.0461859012422914 __ mse_val=1.6452594160446612 _ mse_test=1.6464830142804405\n",
      "n= 7\n",
      "cost=13.663107802785722 __ mse=2.0184013681871895 __ mse_val=1.5851732250154682 _ mse_test=1.586543932585896\n",
      "n= 8\n",
      "cost=13.619986612727981 __ mse=2.014596900687166 __ mse_val=1.5746287816992621 _ mse_test=1.576030109991768\n",
      "n= 9\n",
      "cost=13.605138062550866 __ mse=2.0136095053741867 __ mse_val=1.5716623373418819 _ mse_test=1.5730726463792621\n",
      "n= 10\n",
      "cost=13.600224950689597 __ mse=2.013312174269608 __ mse_val=1.5707448742038184 _ mse_test=1.5721579961115641\n",
      "step_size= 6\n",
      "l2_penalty= 0.001\n",
      "n= 1\n",
      "cost=4.730881287113407 __ mse=2.014867606068727 __ mse_val=1.537278346356192 _ mse_test=1.5387535984048157\n",
      "n= 2\n",
      "cost=4.662948806338379 __ mse=2.0116985637035953 __ mse_val=1.5469054275373468 _ mse_test=1.5483557297558792\n",
      "n= 3\n",
      "cost=4.657018781316887 __ mse=2.0505234583781915 __ mse_val=1.5028072869246587 _ mse_test=1.504595498890678\n",
      "n= 4\n",
      "cost=5.229879820469063 __ mse=2.648821926562309 __ mse_val=2.465532078422764 _ mse_test=2.4659139365314364\n",
      "n= 5\n",
      "cost=5.9246912568147 __ mse=3.356243904491767 __ mse_val=2.464102375867059 _ mse_test=2.4672554490844347\n",
      "n= 6\n",
      "cost=4.581054660207858 __ mse=2.0182202275827077 __ mse_val=1.586193291426 _ mse_test=1.5875484483186355\n",
      "n= 7\n",
      "cost=4.57003890523087 __ mse=2.009492179113882 __ mse_val=1.559553515193325 _ mse_test=1.560979490953145\n",
      "n= 8\n",
      "cost=4.567955804773274 __ mse=2.0082730720642994 __ mse_val=1.5546035716706326 _ mse_test=1.5560444502959754\n",
      "n= 9\n",
      "cost=4.567330489775992 __ mse=2.007953135668618 __ mse_val=1.5531890311060672 _ mse_test=1.5546343023028604\n",
      "n= 10\n",
      "cost=4.567131937992023 __ mse=2.0078563663245372 __ mse_val=1.5527493723479233 _ mse_test=1.554196021908804\n",
      "step_size= 6\n",
      "l2_penalty= 0.0001\n",
      "n= 1\n",
      "cost=2.2910181167780697 __ mse=2.013842696723094 __ mse_val=1.542245637570952 _ mse_test=1.5438323318790297\n",
      "n= 2\n",
      "cost=2.305038692079952 __ mse=2.028523731769176 __ mse_val=1.5046875974553362 _ mse_test=1.5065584443166387\n",
      "n= 3\n",
      "cost=3.333122371500614 __ mse=3.05707092950395 __ mse_val=2.9554368359557723 _ mse_test=2.95525916081127\n",
      "n= 4\n",
      "cost=18.253830906633578 __ mse=17.978044514913105 __ mse_val=16.057206642048314 _ mse_test=16.066036668437643\n",
      "n= 5\n",
      "cost=35.87187438056793 __ mse=35.596221563335426 __ mse_val=37.21861390169855 _ mse_test=37.21001703848972\n",
      "n= 6\n",
      "cost=2.588296674511252 __ mse=2.3127032566511 __ mse_val=1.6402274448967988 _ mse_test=1.6428773530408594\n",
      "n= 7\n",
      "cost=2.3741749056667274 __ mse=2.098605718466051 __ mse_val=1.5160690035128634 _ mse_test=1.5182753296198055\n",
      "n= 8\n",
      "cost=2.344989021352922 __ mse=2.0694289832917367 __ mse_val=1.5056878501058562 _ mse_test=1.5078016861680363\n",
      "n= 9\n",
      "cost=2.3374338091461206 __ mse=2.0618770050311572 __ mse_val=1.5036588224834269 _ mse_test=1.5057455067100394\n",
      "n= 10\n",
      "cost=2.3351610983017723 __ mse=2.0596053720899237 __ mse_val=1.5031182761472706 _ mse_test=1.5051964530173123\n",
      "step_size= 4\n",
      "l2_penalty= 0.01\n",
      "n= 1\n",
      "cost=25.548744886878413 __ mse=2.015859355046048 __ mse_val=1.5391971612301087 _ mse_test=1.5405819095884319\n",
      "n= 2\n",
      "cost=21.931744786511704 __ mse=2.013417388545994 __ mse_val=1.5313357342733922 _ mse_test=1.5327568043953341\n",
      "n= 3\n",
      "cost=19.74581666768234 __ mse=2.017057974320131 __ mse_val=1.5688517179441819 _ mse_test=1.5700998604288452\n",
      "n= 4\n",
      "cost=18.62909783035376 __ mse=2.039309235005235 __ mse_val=1.5026051875594058 _ mse_test=1.5043196753545458\n",
      "n= 5\n",
      "cost=18.074146744817142 __ mse=2.021663676777678 __ mse_val=1.5859253556344945 _ mse_test=1.5871130363137633\n",
      "n= 6\n",
      "cost=17.829696078737204 __ mse=2.0107755672917964 __ mse_val=1.5465849958557913 _ mse_test=1.547921950106903\n",
      "n= 7\n",
      "cost=17.735027164286272 __ mse=2.010273876133076 __ mse_val=1.5429791998927573 _ mse_test=1.5443326093163765\n",
      "n= 8\n",
      "cost=17.69949785140936 __ mse=2.010157308215733 __ mse_val=1.5420432852048083 _ mse_test=1.543401064256048\n",
      "n= 9\n",
      "cost=17.68696567362579 __ mse=2.0101217691654134 __ mse_val=1.5417512484927867 _ mse_test=1.5431103989739698\n",
      "n= 10\n",
      "cost=17.682791604486674 __ mse=2.0101104796589895 __ mse_val=1.5416579297280764 _ mse_test=1.5430175192141853\n",
      "step_size= 4\n",
      "l2_penalty= 0.001\n",
      "n= 1\n",
      "cost=4.753102092744457 __ mse=2.0179144335092274 __ mse_val=1.5408306827778506 _ mse_test=1.5422190982734303\n",
      "n= 2\n",
      "cost=4.707375321518213 __ mse=2.015784059949618 __ mse_val=1.5295401585893238 _ mse_test=1.5309900355946318\n",
      "n= 3\n",
      "cost=4.6884017045721755 __ mse=2.0271692405536657 __ mse_val=1.5940845262363266 _ mse_test=1.5952846622198193\n",
      "n= 4\n",
      "cost=4.727548844067574 __ mse=2.0836622146492574 __ mse_val=1.510755218502083 _ mse_test=1.5126512113070891\n",
      "n= 5\n",
      "cost=4.67562410743641 __ mse=2.0403598592313816 __ mse_val=1.6267487487086347 _ mse_test=1.6278623198986504\n",
      "n= 6\n",
      "cost=4.6449565790851715 __ mse=2.013537173627582 __ mse_val=1.5549982161824913 _ mse_test=1.5563348987314278\n",
      "n= 7\n",
      "cost=4.6422378512030855 __ mse=2.0123861046245364 __ mse_val=1.5489386982684472 _ mse_test=1.550300212289784\n",
      "n= 8\n",
      "cost=4.641391906157838 __ mse=2.012132374012851 __ mse_val=1.5473883377909332 _ mse_test=1.5487564813907946\n",
      "n= 9\n",
      "cost=4.641106930529719 __ mse=2.012056737368337 __ mse_val=1.5469066553813766 _ mse_test=1.548276884440569\n",
      "n= 10\n",
      "cost=4.641013323683464 __ mse=2.0120329054471853 __ mse_val=1.546752952242614 _ mse_test=1.548123849428947\n",
      "step_size= 4\n",
      "l2_penalty= 0.0001\n",
      "n= 1\n",
      "cost=2.2916269236927547 __ mse=2.0141256169755377 __ mse_val=1.5393904787488406 _ mse_test=1.5410714806208263\n",
      "n= 2\n",
      "cost=2.2900543642211257 __ mse=2.0129948035751197 __ mse_val=1.5233751247475158 _ mse_test=1.525150527911302\n",
      "n= 3\n",
      "cost=2.3194003951312947 __ mse=2.0426515626086155 __ mse_val=1.6341216985729463 _ mse_test=1.6354795790383951\n",
      "n= 4\n",
      "cost=2.4546830111893216 __ mse=2.17811288793065 __ mse_val=1.5545401613369383 _ mse_test=1.557044652806409\n",
      "n= 5\n",
      "cost=2.352636802309364 __ mse=2.0761559682402946 __ mse_val=1.6970810236003213 _ mse_test=1.6982914266292284\n",
      "n= 6\n",
      "cost=2.2893134841672587 __ mse=2.012872498870842 __ mse_val=1.5647345668038237 _ mse_test=1.5663128312104961\n",
      "n= 7\n",
      "cost=2.286699817195675 __ mse=2.0102750985760145 __ mse_val=1.5545721613267243 _ mse_test=1.5561911759834521\n",
      "n= 8\n",
      "cost=2.2861418940502527 __ mse=2.009723322918826 __ mse_val=1.5520189585398212 _ mse_test=1.5536488230962575\n",
      "n= 9\n",
      "cost=2.2859779968754435 __ mse=2.009561599104509 __ mse_val=1.5512300723546393 _ mse_test=1.5528633459991876\n",
      "n= 10\n",
      "cost=2.2859266366713906 __ mse=2.0095109633416883 __ mse_val=1.5509787947104812 _ mse_test=1.5526131600737103\n"
     ]
    }
   ],
   "source": [
    "rec_paras = []\n",
    "rec_mse_train = []\n",
    "rec_mse_val = []\n",
    "rec_cost = []\n",
    "\n",
    "for i, step_size in enumerate([6, 4]): # \n",
    "    rec_paras.append([])\n",
    "    for l2_penalty in [0.01, 0.001, 0.0001]:\n",
    "        print('step_size=', step_size)\n",
    "        print('l2_penalty=', l2_penalty)\n",
    "        \n",
    "        rec_cost.append([])\n",
    "        rec_mse_train.append([])\n",
    "        rec_mse_val.append([])        \n",
    "\n",
    "        alpha = mean_train\n",
    "\n",
    "\n",
    "        # userBiases_init = np.zeros(len(user_set))\n",
    "        userBiases_init = np.random.rand(len(user_set)) * 0.1 - 0.05\n",
    "\n",
    "        # itemsBiases_init = np.zeros(len(item_set))\n",
    "        itemBiases_init = np.random.rand(len(item_set)) * 0.1 - 0.05\n",
    "                                         \n",
    "        userBiases = dict(zip(user_set, userBiases_init))\n",
    "        itemBiases = dict(zip(item_set, itemBiases_init))\n",
    "\n",
    "        K = 2\n",
    "\n",
    "        userGamma_init = np.random.rand(len(user_set), K) * 0.1 - 0.05\n",
    "        userGamma = dict(zip(user_set, userGamma_init))\n",
    "\n",
    "        itemGamma_init = np.random.rand(len(item_set), K) * 0.1 - 0.05\n",
    "        itemGamma = dict(zip(item_set, itemGamma_init))\n",
    "\n",
    "        init_paras = [alpha, userBiases, itemBiases, userGamma, itemGamma]        \n",
    "        \n",
    "\n",
    "        model_paras = ridge_regression_gradient_descent(dataset_train, init_paras, step_size, l2_penalty, max_iterations=10)\n",
    "        rec_paras[i].append(model_paras)"
   ]
  },
  {
   "cell_type": "markdown",
   "metadata": {},
   "source": [
    "## Graph for mse_train and mse_val of each hyper parameter pair"
   ]
  },
  {
   "cell_type": "code",
   "execution_count": 55,
   "metadata": {},
   "outputs": [],
   "source": [
    "import matplotlib.pyplot as plt\n",
    "%matplotlib inline"
   ]
  },
  {
   "cell_type": "markdown",
   "metadata": {},
   "source": [
    "## change of mse_train during training\n",
    "### Row: stepsize; Col: l2_penalty"
   ]
  },
  {
   "cell_type": "code",
   "execution_count": 67,
   "metadata": {},
   "outputs": [
    {
     "data": {
      "image/png": "[encoded data removed]",
      "text/plain": [
       "<Figure size 864x648 with 6 Axes>"
      ]
     },
     "metadata": {},
     "output_type": "display_data"
    }
   ],
   "source": [
    "stepsize_list = [6, 4]\n",
    "l2_list = [0.01, 0.001, 0.0001]\n",
    "\n",
    "fig, axes = plt.subplots(2, 3, figsize=(12,9))\n",
    "for i in range(6):\n",
    "    row = i // 3\n",
    "    col = i % 3\n",
    "    axes[row, col].plot(rec_mse_train[i], 'b', label='step_'+str(stepsize_list[row])+' + l2_'+str(l2_list[col]))\n",
    "    axes[row, col].plot([base_train] * 10, 'g', label='base_train')\n",
    "    axes[row, col].set_xlim(0,10)\n",
    "    axes[row, col].set_ylim(2.0,2.025)\n",
    "    axes[row, col].legend(loc='lower left')"
   ]
  },
  {
   "cell_type": "markdown",
   "metadata": {},
   "source": [
    "## change of mse_validation during training\n",
    "### Row: stepsize; Col: l2_penalty"
   ]
  },
  {
   "cell_type": "code",
   "execution_count": 68,
   "metadata": {},
   "outputs": [
    {
     "data": {
      "image/png": "[encoded data removed]",
      "text/plain": [
       "<Figure size 864x648 with 6 Axes>"
      ]
     },
     "metadata": {},
     "output_type": "display_data"
    }
   ],
   "source": [
    "fig, axes = plt.subplots(2, 3, figsize=(12,9))\n",
    "for i in range(6):\n",
    "    row = i // 3\n",
    "    col = i % 3\n",
    "    axes[row, col].plot(rec_mse_val[i], 'r', label='step_'+str(stepsize_list[row])+'_l2_'+str(l2_list[col]))\n",
    "    axes[row, col].plot([base_validation] * 10, 'g', label='base_validation')\n",
    "    axes[row, col].set_xlim(0,10)\n",
    "    axes[row, col].set_ylim(1.5,1.6)\n",
    "    axes[row, col].legend(loc='upper left')"
   ]
  },
  {
   "cell_type": "markdown",
   "metadata": {},
   "source": [
    "# Re-Train the selected model"
   ]
  },
  {
   "cell_type": "code",
   "execution_count": 69,
   "metadata": {
    "scrolled": true
   },
   "outputs": [
    {
     "name": "stdout",
     "output_type": "stream",
     "text": [
      "step_size= 6\n",
      "l2_penalty= 0.001\n",
      "n= 1\n",
      "cost=4.7275334812673275 __ mse=2.014986850578084 __ mse_val=1.5391634559441973 _ mse_test=1.5404408791846713\n",
      "n= 2\n",
      "cost=4.659661899357229 __ mse=2.0117967088698103 __ mse_val=1.5269075621472097 _ mse_test=1.5282531453185264\n",
      "n= 3\n",
      "cost=4.65499737798327 __ mse=2.0518296132358405 __ mse_val=1.654096399492571 _ mse_test=1.6550461848267408\n",
      "n= 4\n",
      "cost=5.24575413624254 __ mse=2.6679927181409915 __ mse_val=1.9001362525808883 _ mse_test=1.9028605416181636\n",
      "n= 5\n",
      "cost=5.9616827980023155 __ mse=3.39651242749035 __ mse_val=3.351738146438922 _ mse_test=3.35102047932529\n",
      "n= 6\n",
      "cost=4.578176500825876 __ mse=2.0186139891457286 __ mse_val=1.505454234162802 _ mse_test=1.5069709495229324\n",
      "n= 7\n",
      "cost=4.56690615255914 __ mse=2.0096283124572323 __ mse_val=1.5148553386984032 _ mse_test=1.5162851744181363\n",
      "n= 8\n",
      "cost=4.564788817492594 __ mse=2.008373838681626 __ mse_val=1.5174521310308995 _ mse_test=1.5188639250391676\n",
      "n= 9\n",
      "cost=4.564154709708704 __ mse=2.0080447103802586 __ mse_val=1.5182558219867737 _ mse_test=1.5196623298859797\n",
      "n= 10\n",
      "cost=4.563953521360553 __ mse=2.007945171547217 __ mse_val=1.5185114836236397 _ mse_test=1.519916336477917\n",
      "n= 11\n",
      "cost=4.563890875345438 __ mse=2.0079146688500082 __ mse_val=1.5185910845762143 _ mse_test=1.5199954246630434\n",
      "n= 12\n",
      "cost=4.563872076770324 __ mse=2.0079055617469783 __ mse_val=1.518614967466146 _ mse_test=1.5200191539386536\n",
      "n= 13\n",
      "cost=4.563866657813381 __ mse=2.0079029404680746 __ mse_val=1.5186218516306285 _ mse_test=1.5200259938442036\n",
      "n= 14\n",
      "cost=4.563865155479547 __ mse=2.0079022140700187 __ mse_val=1.51862376013403 _ mse_test=1.5200278900792341\n",
      "n= 15\n",
      "cost=4.563864754009684 __ mse=2.007902019977303 __ mse_val=1.518624270142098 _ mse_test=1.5200283968089487\n",
      "n= 16\n",
      "cost=4.563864650353678 __ mse=2.0079019698658973 __ mse_val=1.5186244018214026 _ mse_test=1.5200285276418217\n",
      "n= 17\n",
      "cost=4.563864624439532 __ mse=2.0079019573382473 __ mse_val=1.518624434740956 _ mse_test=1.5200285603497699\n",
      "n= 18\n",
      "cost=4.563864618154688 __ mse=2.0079019542998573 __ mse_val=1.5186244427251046 _ mse_test=1.5200285682825962\n",
      "n= 19\n",
      "cost=4.563864616673378 __ mse=2.0079019535837017 __ mse_val=1.5186244446069848 _ mse_test=1.5200285701523804\n",
      "n= 20\n",
      "cost=4.5638646163331025 __ mse=2.0079019534194065 __ mse_val=1.518624445038718 _ mse_test=1.5200285705813381\n"
     ]
    }
   ],
   "source": [
    "rec_paras = []\n",
    "rec_mse_train = []\n",
    "rec_mse_val = []\n",
    "rec_cost = []\n",
    "\n",
    "for i, step_size in enumerate([6]):\n",
    "    rec_paras.append([])\n",
    "    for l2_penalty in [0.001]:\n",
    "        print('step_size=', step_size)\n",
    "        print('l2_penalty=', l2_penalty)\n",
    "        \n",
    "        rec_cost.append([])\n",
    "        rec_mse_train.append([])\n",
    "        rec_mse_val.append([])        \n",
    "\n",
    "        alpha = mean_train\n",
    "\n",
    "\n",
    "        # userBiases_init = np.zeros(len(user_set))\n",
    "        userBiases_init = np.random.rand(len(user_set)) * 0.1 - 0.05\n",
    "\n",
    "        # itemsBiases_init = np.zeros(len(item_set))\n",
    "        itemBiases_init = np.random.rand(len(item_set)) * 0.1 - 0.05\n",
    "                                         \n",
    "        userBiases = dict(zip(user_set, userBiases_init))\n",
    "        itemBiases = dict(zip(item_set, itemBiases_init))\n",
    "\n",
    "        K = 2\n",
    "\n",
    "        userGamma_init = np.random.rand(len(user_set), K) * 0.1 - 0.05\n",
    "        userGamma = dict(zip(user_set, userGamma_init))\n",
    "\n",
    "        itemGamma_init = np.random.rand(len(item_set), K) * 0.1 - 0.05\n",
    "        itemGamma = dict(zip(item_set, itemGamma_init))\n",
    "\n",
    "        init_paras = [alpha, userBiases, itemBiases, userGamma, itemGamma]        \n",
    "        \n",
    "\n",
    "        model_paras = ridge_regression_gradient_descent(dataset_train, init_paras, step_size, l2_penalty, max_iterations=20)\n",
    "        rec_paras[i].append(model_paras)"
   ]
  },
  {
   "cell_type": "markdown",
   "metadata": {},
   "source": [
    "# mse_train, mse_validation of selected model vs base line"
   ]
  },
  {
   "cell_type": "code",
   "execution_count": 71,
   "metadata": {},
   "outputs": [
    {
     "data": {
      "text/plain": [
       "<matplotlib.legend.Legend at 0x253f7934c88>"
      ]
     },
     "execution_count": 71,
     "metadata": {},
     "output_type": "execute_result"
    },
    {
     "data": {
      "image/png": "[encoded data removed]",
      "text/plain": [
       "<Figure size 720x288 with 2 Axes>"
      ]
     },
     "metadata": {},
     "output_type": "display_data"
    }
   ],
   "source": [
    "fig, axes = plt.subplots(1, 2, figsize=(10,4))\n",
    "axes[0].plot(rec_mse_train[0], 'b', label='step_'+str(1.)+' + l2_'+str(1e-5))\n",
    "axes[0].plot([base_train] * 20, 'g', label='base_train')\n",
    "axes[0].set_ylim(2.0,2.025)\n",
    "axes[0].legend(loc='upper left')\n",
    "\n",
    "axes[1].plot(rec_mse_val[0], 'b', label='step_'+str(1.)+' + l2_'+str(1e-5))\n",
    "axes[1].plot([base_validation] * 20, 'g', label='base_validation')\n",
    "axes[1].set_ylim(1.5,1.6)\n",
    "axes[1].legend(loc='upper left')"
   ]
  },
  {
   "cell_type": "code",
   "execution_count": 72,
   "metadata": {},
   "outputs": [],
   "source": [
    "selected_para = model_paras"
   ]
  },
  {
   "cell_type": "markdown",
   "metadata": {},
   "source": [
    "# Part 6: Recommendation Demo\n"
   ]
  },
  {
   "cell_type": "markdown",
   "metadata": {},
   "source": [
    "## Popularity Model"
   ]
  },
  {
   "cell_type": "code",
   "execution_count": 73,
   "metadata": {},
   "outputs": [],
   "source": [
    "popular_items = amazon_train['product_id'].value_counts()"
   ]
  },
  {
   "cell_type": "code",
   "execution_count": 74,
   "metadata": {},
   "outputs": [
    {
     "data": {
      "text/plain": [
       "array(['B00BGA9WK2', 'B007FTE2VW', 'B005CPGHAA', ..., '9861748563',\n",
       "       'B00HUHV0VO', 'B00006LEMH'], dtype=object)"
      ]
     },
     "execution_count": 74,
     "metadata": {},
     "output_type": "execute_result"
    }
   ],
   "source": [
    "popular_item_ids = popular_items.index.values\n",
    "popular_item_ids # most popular product_ids"
   ]
  },
  {
   "cell_type": "code",
   "execution_count": 75,
   "metadata": {},
   "outputs": [],
   "source": [
    "names_train = amazon_train['product_title'].values\n",
    "itemNames = dict(zip(items_train, names_train))"
   ]
  },
  {
   "cell_type": "code",
   "execution_count": 76,
   "metadata": {},
   "outputs": [
    {
     "data": {
      "text/plain": [
       "'PlayStation 4 500GB Console [Old Model]'"
      ]
     },
     "execution_count": 76,
     "metadata": {},
     "output_type": "execute_result"
    }
   ],
   "source": [
    "# test\n",
    "itemNames['B00BGA9WK2']"
   ]
  },
  {
   "cell_type": "code",
   "execution_count": 77,
   "metadata": {},
   "outputs": [],
   "source": [
    "def popularity_rec(user, n=10):\n",
    "    recommendation = [itemNames[x] for x in popular_item_ids[:n]]\n",
    "    return recommendation"
   ]
  },
  {
   "cell_type": "code",
   "execution_count": 78,
   "metadata": {},
   "outputs": [
    {
     "data": {
      "text/plain": [
       "['PlayStation 4 500GB Console [Old Model]',\n",
       " 'SimCity - Limited Edition',\n",
       " 'E-3lue Cobra EMS109BK High Precision Gaming Mouse with Side Control 1600dpi',\n",
       " 'Diablo III - PC/Mac',\n",
       " 'Spore',\n",
       " 'Grand Theft Auto V',\n",
       " 'Microsoft Xbox360 Wireless Controller Microsoft',\n",
       " 'Grand Theft Auto V',\n",
       " 'Xbox LIVE 12 Month Gold Membership Card',\n",
       " 'PlayStation 3 Dualshock 3 Wireless Controller (Black)']"
      ]
     },
     "execution_count": 78,
     "metadata": {},
     "output_type": "execute_result"
    }
   ],
   "source": [
    "popularity_rec('A')"
   ]
  },
  {
   "cell_type": "markdown",
   "metadata": {},
   "source": [
    "## Latent Factor Model"
   ]
  },
  {
   "cell_type": "code",
   "execution_count": 88,
   "metadata": {},
   "outputs": [
    {
     "data": {
      "text/plain": [
       "array(['18286458', '26007273', '16089550', '50280260', '38711633',\n",
       "       '44288097', '15482488', '48770717', '12423378', '30385032',\n",
       "       '42633339', '485665', '46254198', '42218209', '51370721'],\n",
       "      dtype=object)"
      ]
     },
     "execution_count": 88,
     "metadata": {},
     "output_type": "execute_result"
    }
   ],
   "source": [
    "users_train[:15]"
   ]
  },
  {
   "cell_type": "code",
   "execution_count": 90,
   "metadata": {},
   "outputs": [],
   "source": [
    "def model_rec(paras, user, n=10):\n",
    "    ranking = []\n",
    "    for d in dataset_train:\n",
    "        item = d['product_id']\n",
    "        score = prediction(user, item, paras)\n",
    "        ranking.append((score, item))\n",
    "        \n",
    "    ranking.sort(reverse=True)\n",
    "    recommendation_set = set()\n",
    "    \n",
    "    for score_item in ranking:\n",
    "        recommendation_set.add(score_item)\n",
    "        if len(recommendation_set) == 10: break\n",
    "            \n",
    "    recommendation_list = list(recommendation_set)\n",
    "    recommendation_list.sort(reverse=True)\n",
    "    recommendation = [itemNames[x[1]] for x in recommendation_list]\n",
    "    \n",
    "    return recommendation"
   ]
  },
  {
   "cell_type": "code",
   "execution_count": 93,
   "metadata": {},
   "outputs": [
    {
     "data": {
      "text/plain": [
       "['Grand Theft Auto V',\n",
       " 'Grand Theft Auto V',\n",
       " 'Xbox Live Subscription',\n",
       " 'Just Dance 4',\n",
       " \"Assassin's Creed 4\",\n",
       " 'The Last of Us',\n",
       " 'Official Nintendo White Classic Gamecube Controller',\n",
       " 'Roller Coaster Tycoon',\n",
       " 'PlayStation 4 Console - Destiny Bundle [Discontinued]',\n",
       " 'Fallout 3: Game of The Year Edition']"
      ]
     },
     "execution_count": 93,
     "metadata": {},
     "output_type": "execute_result"
    }
   ],
   "source": [
    "test_user =   '48770717'\n",
    "model_rec(selected_para, test_user)"
   ]
  },
  {
   "cell_type": "markdown",
   "metadata": {},
   "source": [
    "# Part 7: Evaluate Recommendation Performance\n",
    "+ picture: a system shows you 10 recommendated products\n",
    "+ valid recommendation: if the purchased one is within this list\n",
    "+ metric: purchased rate. valid recommendation / total recommendation"
   ]
  },
  {
   "cell_type": "markdown",
   "metadata": {},
   "source": [
    "## Popularity Model"
   ]
  },
  {
   "cell_type": "code",
   "execution_count": 94,
   "metadata": {},
   "outputs": [],
   "source": [
    "popularity_performance = []\n",
    "for u, i in zip(users_test, items_test):\n",
    "    rec = popularity_rec(u)\n",
    "    if itemNames[i] in rec:\n",
    "        popularity_performance.append(1)\n",
    "    else:\n",
    "        popularity_performance.append(0)"
   ]
  },
  {
   "cell_type": "code",
   "execution_count": 96,
   "metadata": {
    "scrolled": true
   },
   "outputs": [
    {
     "data": {
      "text/plain": [
       "(5922, 325771)"
      ]
     },
     "execution_count": 96,
     "metadata": {},
     "output_type": "execute_result"
    }
   ],
   "source": [
    "sum(popularity_performance), len(popularity_performance)"
   ]
  },
  {
   "cell_type": "code",
   "execution_count": 97,
   "metadata": {},
   "outputs": [
    {
     "data": {
      "text/plain": [
       "0.01817841367095291"
      ]
     },
     "execution_count": 97,
     "metadata": {},
     "output_type": "execute_result"
    }
   ],
   "source": [
    "popularity_purchased_rate = sum(popularity_performance) / len(popularity_performance)\n",
    "popularity_purchased_rate"
   ]
  },
  {
   "cell_type": "markdown",
   "metadata": {},
   "source": [
    "+ This means if we recommend 10 most popular items, about two people will purchase some items from the list."
   ]
  },
  {
   "cell_type": "markdown",
   "metadata": {},
   "source": [
    "## Latent Factor Model"
   ]
  },
  {
   "cell_type": "code",
   "execution_count": 98,
   "metadata": {},
   "outputs": [],
   "source": [
    "users_test_set = set(users_test)\n",
    "items_test_set = set(items_test)"
   ]
  },
  {
   "cell_type": "code",
   "execution_count": 99,
   "metadata": {},
   "outputs": [
    {
     "name": "stdout",
     "output_type": "stream",
     "text": [
      "166814 32156\n"
     ]
    }
   ],
   "source": [
    "print(len(users_test_set), len(items_test_set))"
   ]
  },
  {
   "cell_type": "code",
   "execution_count": 100,
   "metadata": {},
   "outputs": [],
   "source": [
    "usersNum_test = dict(zip(users_test_set, range(len(users_test_set))))\n",
    "numUsers_test = dict(zip(range(len(users_test_set)), users_test_set))\n",
    "itemsNum_test = dict(zip(items_test_set, range(len(items_test_set))))\n",
    "numItems_test = dict(zip(range(len(items_test_set)), items_test_set))"
   ]
  },
  {
   "cell_type": "code",
   "execution_count": 101,
   "metadata": {},
   "outputs": [],
   "source": [
    "users_train_set = user_set\n",
    "items_train_set = item_set"
   ]
  },
  {
   "cell_type": "code",
   "execution_count": 102,
   "metadata": {},
   "outputs": [
    {
     "name": "stdout",
     "output_type": "stream",
     "text": [
      "1045733 65792\n"
     ]
    }
   ],
   "source": [
    "print(len(users_train_set), len(items_train_set))"
   ]
  },
  {
   "cell_type": "code",
   "execution_count": 103,
   "metadata": {},
   "outputs": [],
   "source": [
    "itemsNum_train = dict(zip(items_train_set, range(len(items_train_set))))\n",
    "numItems_train = dict(zip(range(len(items_train_set)), items_train_set))"
   ]
  },
  {
   "cell_type": "code",
   "execution_count": 104,
   "metadata": {},
   "outputs": [
    {
     "data": {
      "text/plain": [
       "(166814, 65792)"
      ]
     },
     "execution_count": 104,
     "metadata": {},
     "output_type": "execute_result"
    }
   ],
   "source": [
    "users_items_scoreMatrix = np.full((len(users_test_set), len(items_train_set)), -1.)\n",
    "users_items_scoreMatrix.shape"
   ]
  },
  {
   "cell_type": "code",
   "execution_count": 109,
   "metadata": {
    "scrolled": true
   },
   "outputs": [
    {
     "name": "stdout",
     "output_type": "stream",
     "text": [
      "k=5000\n",
      "k=10000\n",
      "k=15000\n",
      "k=20000\n",
      "k=25000\n",
      "k=30000\n",
      "k=35000\n",
      "k=40000\n",
      "k=45000\n",
      "k=50000\n",
      "k=55000\n",
      "k=60000\n",
      "k=65000\n",
      "k=70000\n",
      "k=75000\n",
      "k=80000\n",
      "k=85000\n",
      "k=90000\n",
      "k=95000\n",
      "k=100000\n",
      "k=105000\n",
      "k=110000\n",
      "k=115000\n",
      "k=120000\n",
      "k=125000\n",
      "k=130000\n",
      "k=135000\n",
      "k=140000\n",
      "k=145000\n",
      "k=150000\n",
      "k=155000\n",
      "k=160000\n",
      "k=165000\n"
     ]
    }
   ],
   "source": [
    "k = 0 # variable for monitoring\n",
    "for one_user in usersNum_test:\n",
    "    k += 1\n",
    "\n",
    "    # use the following comment while testing code\n",
    "#     if k == 10: break\n",
    "\n",
    "    if k % 5000 == 0: print('k='+str(k))\n",
    "    u_num = usersNum_test[one_user]\n",
    "    for i_num in range(len(items_train_set)):\n",
    "        one_item = numItems_train[i_num]\n",
    "#         score = selected_para[0] + selected_para[1][one_user] + selected_para[2][one_item] \\\n",
    "#                 + np.dot(selected_para[3][one_user], selected_para[4][one_item])\n",
    "        score = prediction(one_user, one_item, selected_para)\n",
    "        users_items_scoreMatrix[u_num, i_num] = score"
   ]
  },
  {
   "cell_type": "code",
   "execution_count": 107,
   "metadata": {
    "scrolled": true
   },
   "outputs": [
    {
     "data": {
      "text/plain": [
       "array([[4.02625614, 4.07419134, 4.01016376, 4.07499865, 4.05362715],\n",
       "       [4.04294932, 4.09290196, 4.02540869, 4.0932484 , 4.0699991 ],\n",
       "       [4.05898585, 4.10616587, 4.04136891, 4.10827839, 4.08974897]])"
      ]
     },
     "execution_count": 107,
     "metadata": {},
     "output_type": "execute_result"
    }
   ],
   "source": [
    "users_items_scoreMatrix[:3,:5]"
   ]
  },
  {
   "cell_type": "code",
   "execution_count": 110,
   "metadata": {},
   "outputs": [],
   "source": [
    "from tqdm.auto import tqdm"
   ]
  },
  {
   "cell_type": "code",
   "execution_count": 111,
   "metadata": {},
   "outputs": [
    {
     "data": {
      "application/vnd.jupyter.widget-view+json": {
       "model_id": "57c7d0e2742f42dc97dbd3b5cf21d66e",
       "version_major": 2,
       "version_minor": 0
      },
      "text/plain": [
       "HBox(children=(IntProgress(value=1, bar_style='info', max=1), HTML(value='')))"
      ]
     },
     "metadata": {},
     "output_type": "display_data"
    }
   ],
   "source": [
    "model_performance = []\n",
    "k = 0\n",
    "for u, i in tqdm(zip(users_test, items_test)):\n",
    "#     k += 1\n",
    "#     if k % 5000 == 0: print('k='+str(k)+'__sum='+str(sum(model_performance)))\n",
    "#     if k == 1000: break\n",
    "    u_num = usersNum_test[u]\n",
    "    top10_numItems = np.argsort(users_items_scoreMatrix_test[u_num])[-10:]\n",
    "    recommendation = [numItems_test[x] for x in top10_numItems]\n",
    "    if i in recommendation:\n",
    "        model_performance.append(1)\n",
    "    else:\n",
    "        model_performance.append(0)"
   ]
  },
  {
   "cell_type": "code",
   "execution_count": 114,
   "metadata": {},
   "outputs": [
    {
     "data": {
      "text/plain": [
       "(10338, 325771)"
      ]
     },
     "execution_count": 114,
     "metadata": {},
     "output_type": "execute_result"
    }
   ],
   "source": [
    "sum(model_performance), len(model_performance)"
   ]
  },
  {
   "cell_type": "code",
   "execution_count": 115,
   "metadata": {},
   "outputs": [
    {
     "data": {
      "text/plain": [
       "0.03173394808009307"
      ]
     },
     "execution_count": 115,
     "metadata": {},
     "output_type": "execute_result"
    }
   ],
   "source": [
    "model_purchased_rate = sum(model_performance) / len(model_performance)\n",
    "model_purchased_rate"
   ]
  },
  {
   "cell_type": "markdown",
   "metadata": {},
   "source": [
    "# Compare Purchased Rate\n",
    "+ Popularity Model: 0.018\n",
    "+ Latent Factor Model: 0.032\n",
    "### conclusion: \n",
    "* By applying latent factor model, the purchased rate is increased by ~0.014.\n",
    "* Latent factor model is able to offer more personalized recommendations than the popularity model."
   ]
  },
  {
   "cell_type": "markdown",
   "metadata": {},
   "source": [
    "# Part 8: Reflection & Thoughts for Improvements\n",
    "+ parallelize some for loops to speed up the calculation\n",
    "+ combine with other information about users and items\n",
    "+ reviews can help to identify the reason for high rating and low rating\n",
    "+ recommendation should also consider time factor"
   ]
  },
  {
   "cell_type": "code",
   "execution_count": null,
   "metadata": {},
   "outputs": [],
   "source": []
  }
 ],
 "metadata": {
  "kernelspec": {
   "display_name": "Python 3",
   "language": "python",
   "name": "python3"
  },
  "language_info": {
   "codemirror_mode": {
    "name": "ipython",
    "version": 3
   },
   "file_extension": ".py",
   "mimetype": "text/x-python",
   "name": "python",
   "nbconvert_exporter": "python",
   "pygments_lexer": "ipython3",
   "version": "3.6.9"
  }
 },
 "nbformat": 4,
 "nbformat_minor": 2
}
